{
 "cells": [
  {
   "cell_type": "code",
   "execution_count": null,
   "metadata": {},
   "outputs": [],
   "source": [
    "from selenium import webdriver\n",
    "from selenium.webdriver.chrome.service import Service\n",
    "from selenium.webdriver.common.by import By"
   ]
  },
  {
   "cell_type": "code",
   "execution_count": null,
   "metadata": {},
   "outputs": [],
   "source": [
    "service = Service(\"./driver/chromedriver.exe\")\n",
    "driver = webdriver.Chrome(service=service)\n",
    "driver.get(\"https://online.spor.istanbul/\")"
   ]
  },
  {
   "cell_type": "code",
   "execution_count": null,
   "metadata": {},
   "outputs": [],
   "source": [
    "# pop-up close\n",
    "driver.find_element(By.XPATH,\"//button[normalize-space()='Kapat']\").click()\n"
   ]
  },
  {
   "cell_type": "code",
   "execution_count": null,
   "metadata": {},
   "outputs": [],
   "source": [
    "#Login\n",
    "driver.find_element(By.XPATH,\"//a[contains(text(),'Üye Giriş')]\").click()"
   ]
  },
  {
   "cell_type": "code",
   "execution_count": null,
   "metadata": {},
   "outputs": [],
   "source": [
    "#forms\n",
    "tc_input = driver.find_element(By.CSS_SELECTOR,\"#txtTCPasaport\")\n",
    "tc_input.send_keys(\"TC_NUMBER\")\n",
    "pass_input = driver.find_element(By.CSS_SELECTOR,\"#txtSifre\")\n",
    "pass_input.send_keys(\"YOUR_PASS\")\n",
    "\n",
    "driver.find_element(By.CSS_SELECTOR,\"#btnGirisYap\").click()"
   ]
  },
  {
   "cell_type": "code",
   "execution_count": null,
   "metadata": {},
   "outputs": [],
   "source": [
    "# navigates my sessions page\n",
    "driver.find_element(By.XPATH,\"//div[contains(@class,'page-header-menu')]//div[contains(@class,'container-fluid')]//div[contains(@class,'')]//ul[contains(@class,'nav navbar-nav')]//li//a[contains(@href,'uyespor.aspx')][contains(text(),'Seanslarım')]\").click()\n",
    "driver.find_element(By.CSS_SELECTOR,\"#pageContent_rptListe_lbtnSeansSecim_0\").click()"
   ]
  },
  {
   "cell_type": "code",
   "execution_count": null,
   "metadata": {},
   "outputs": [],
   "source": [
    "# import twilio api for sending whatsapp messages when available session is found\n",
    "from twilio.rest import Client\n",
    "account_sid = 'YOUR_SID'\n",
    "auth_token = 'YOUR_TOKEN'\n",
    "def send_message():\n",
    "    client = Client(account_sid, auth_token)\n",
    "    message = client.messages.create(\n",
    "    from_='whatsapp:YOUR_SENDER_TWILIO_NUMBER',\n",
    "    body='There are available sessions!',\n",
    "    to='whatsapp:YOUR_PHONE_NUMBER'\n",
    "    )\n",
    "    print(message.sid)\n"
   ]
  },
  {
   "cell_type": "code",
   "execution_count": null,
   "metadata": {},
   "outputs": [],
   "source": [
    "while(True):\n",
    "    # continuously run code\n",
    "    driver.implicitly_wait(30)\n",
    "    available_sessions = driver.find_elements(By.XPATH,\"//div[@class='form-group']//span[contains(text(),'Başlangıç')]/following-sibling::label[contains(text(),'Yer')]\")\n",
    "    if(len(available_sessions)>0):\n",
    "        send_message()\n",
    "        break\n",
    "    driver.refresh()\n",
    "\n",
    "\n"
   ]
  },
  {
   "cell_type": "code",
   "execution_count": null,
   "metadata": {},
   "outputs": [],
   "source": []
  }
 ],
 "metadata": {
  "kernelspec": {
   "display_name": "Python 3",
   "language": "python",
   "name": "python3"
  },
  "language_info": {
   "codemirror_mode": {
    "name": "ipython",
    "version": 3
   },
   "file_extension": ".py",
   "mimetype": "text/x-python",
   "name": "python",
   "nbconvert_exporter": "python",
   "pygments_lexer": "ipython3",
   "version": "3.11.2"
  },
  "orig_nbformat": 4
 },
 "nbformat": 4,
 "nbformat_minor": 2
}
